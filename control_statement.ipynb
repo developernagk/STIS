{
 "cells": [
  {
   "cell_type": "code",
   "execution_count": null,
   "metadata": {},
   "outputs": [],
   "source": [
    "# 조건문 \n",
    "# if 조건문\n",
    "# if 조건:\n",
    "#   실행문"
   ]
  },
  {
   "cell_type": "code",
   "execution_count": 5,
   "metadata": {},
   "outputs": [],
   "source": [
    "number = 12345\n",
    "# : 이후에 새로운 코드블럭이 생기면 라인 첫 공백을 모두 같게 해야 함\n",
    "if number % 2 == 0:\n",
    "    print('짝수')\n",
    "    print('짝수')"
   ]
  },
  {
   "cell_type": "code",
   "execution_count": null,
   "metadata": {},
   "outputs": [],
   "source": [
    "# else\n",
    "# else:\n",
    "#   실행문"
   ]
  },
  {
   "cell_type": "code",
   "execution_count": 6,
   "metadata": {},
   "outputs": [
    {
     "name": "stdout",
     "output_type": "stream",
     "text": [
      "홀수\n"
     ]
    }
   ],
   "source": [
    "if number % 2 == 0:\n",
    "    print('짝수')\n",
    "else:\n",
    "    print('홀수')"
   ]
  },
  {
   "cell_type": "code",
   "execution_count": 21,
   "metadata": {},
   "outputs": [
    {
     "name": "stdout",
     "output_type": "stream",
     "text": [
      "윤년이 아닙니다\n"
     ]
    }
   ],
   "source": [
    "# 윤년\n",
    "# 4202년이 윤년인지 아닌지 판별하는 조건문을 작성하시오\n",
    "\n",
    "y = 2004\n",
    "if y % 400 == 0 or y % 100 != 0 and y % 4 == 0:\n",
    "    print('윤년입니다')\n",
    "else:\n",
    "    print('윤년이 아닙니다')"
   ]
  },
  {
   "cell_type": "code",
   "execution_count": 23,
   "metadata": {},
   "outputs": [
    {
     "data": {
      "text/plain": [
       "False"
      ]
     },
     "execution_count": 23,
     "metadata": {},
     "output_type": "execute_result"
    }
   ],
   "source": [
    "# 비트 연산 : 이진수로 풀어서 연산\n",
    "True & False"
   ]
  },
  {
   "cell_type": "code",
   "execution_count": 25,
   "metadata": {},
   "outputs": [
    {
     "data": {
      "text/plain": [
       "15"
      ]
     },
     "execution_count": 25,
     "metadata": {},
     "output_type": "execute_result"
    }
   ],
   "source": [
    "11 | 7"
   ]
  },
  {
   "cell_type": "code",
   "execution_count": null,
   "metadata": {},
   "outputs": [],
   "source": [
    "# elif(else if) : 상위의 조건이 false이면서 elif의 조건이 true이면 실행\n",
    "# elif 조건:\n",
    "#   실행문"
   ]
  },
  {
   "cell_type": "code",
   "execution_count": 26,
   "metadata": {},
   "outputs": [
    {
     "name": "stdout",
     "output_type": "stream",
     "text": [
      "C\n"
     ]
    }
   ],
   "source": [
    "score = 80\n",
    "if score > 90:\n",
    "    print('A')\n",
    "elif score > 80:\n",
    "    print('B')\n",
    "elif score > 70:\n",
    "    print('C')\n",
    "elif score > 60:\n",
    "    print('D')\n",
    "else:\n",
    "    print('F')"
   ]
  },
  {
   "cell_type": "code",
   "execution_count": 27,
   "metadata": {},
   "outputs": [],
   "source": [
    "# 수박 등급 구하기\n",
    "# 어떤 농장에서는 수박이 10kg이 넘으면 1등급, 그렇지 않고 7kg이 넘으면 2등급,\n",
    "# 그렇지 않고 4kg이 넘으면 3등급, 나머지는 4등급을 준다고 한다. 이 수박의 등급을 정하는 파이썬 코드를 작성한다.\n",
    "\n",
    "watermelon = 6"
   ]
  },
  {
   "cell_type": "code",
   "execution_count": 29,
   "metadata": {},
   "outputs": [
    {
     "name": "stdout",
     "output_type": "stream",
     "text": [
      "3등급\n"
     ]
    }
   ],
   "source": [
    "if watermelon > 10:\n",
    "    print('1등급')\n",
    "elif watermelon > 7:\n",
    "    print('2등급')\n",
    "elif watermelon > 4:\n",
    "    print('3등급')\n",
    "else:\n",
    "    print('4등급')"
   ]
  },
  {
   "cell_type": "code",
   "execution_count": null,
   "metadata": {},
   "outputs": [],
   "source": [
    "# 중첩 if\n",
    "# if문 안에 if문 (들여쓰기 주의)"
   ]
  },
  {
   "cell_type": "code",
   "execution_count": 34,
   "metadata": {},
   "outputs": [
    {
     "name": "stdout",
     "output_type": "stream",
     "text": [
      "불합격\n"
     ]
    }
   ],
   "source": [
    "gender = '남자'\n",
    "count = 7\n",
    "\n",
    "if gender == '남자':\n",
    "    # 남자일 때\n",
    "    if count >= 10:\n",
    "        print('합격')\n",
    "    else:\n",
    "        print('불합격')\n",
    "else:\n",
    "    # 여자일 때\n",
    "    if count >= 5:\n",
    "        print('합격')\n",
    "    else:\n",
    "        print('불합격')"
   ]
  },
  {
   "cell_type": "code",
   "execution_count": 38,
   "metadata": {},
   "outputs": [
    {
     "name": "stdout",
     "output_type": "stream",
     "text": [
      "불합격\n"
     ]
    }
   ],
   "source": [
    "gender = '남자'\n",
    "count = 7\n",
    "\n",
    "if (gender == '남자' and count >= 10) or (gender == '여자' and count >= 5):\n",
    "    print('합격')\n",
    "else:\n",
    "    print('불합격')"
   ]
  },
  {
   "cell_type": "code",
   "execution_count": null,
   "metadata": {},
   "outputs": [],
   "source": [
    "a = input('입력 : ')\n",
    "print(a)"
   ]
  },
  {
   "cell_type": "code",
   "execution_count": 7,
   "metadata": {},
   "outputs": [
    {
     "name": "stdout",
     "output_type": "stream",
     "text": [
      "YA : 0, YB : 10\n"
     ]
    }
   ],
   "source": [
    "XA = input('자백 여부 : ') # vscode를 이용할 경우 input이 바로 실행되지 않기 때문에 따로 변수 지정해줘야 함\n",
    "XB = input('자백 여부 : ')\n",
    "\n",
    "if XA == 'True':\n",
    "    if XB == 'False':\n",
    "        print('YA : 0, YB : 10')\n",
    "    else:\n",
    "        print('YA : 5, YB : 5')\n",
    "else:\n",
    "    if XB == 'False':\n",
    "        print('YA : 1, YB : 1')\n",
    "    else:\n",
    "        print('YA : 10, YB : 0')"
   ]
  },
  {
   "cell_type": "code",
   "execution_count": 4,
   "metadata": {},
   "outputs": [
    {
     "name": "stdout",
     "output_type": "stream",
     "text": [
      "A의 복역 년수는 10년, B의 복역 년수는 0년\n"
     ]
    }
   ],
   "source": [
    "# 강사님 코드\n",
    "\n",
    "XA = False\n",
    "XB = True\n",
    "\n",
    "YA = 0\n",
    "YB = 0\n",
    "\n",
    "if XA:\n",
    "    if XB:\n",
    "        YA = 5\n",
    "        YB = 5\n",
    "    else:\n",
    "        YA = 0\n",
    "        YB = 10\n",
    "else:\n",
    "    if XB:\n",
    "        YA = 10\n",
    "        YB = 0\n",
    "    else:\n",
    "        YA = 1\n",
    "        YB = 1\n",
    "\n",
    "print(f'A의 복역 년수는 {YA}년, B의 복역 년수는 {YB}년')"
   ]
  },
  {
   "cell_type": "code",
   "execution_count": 5,
   "metadata": {},
   "outputs": [],
   "source": [
    "if XA and XB:\n",
    "    YA = 5\n",
    "    YB = 5\n",
    "elif XA and not XB:\n",
    "    YA = 0\n",
    "    YB = 10\n",
    "elif not XA and XB:\n",
    "    YA = 10\n",
    "    YB = 0\n",
    "else:\n",
    "    YA = 1\n",
    "    YB = 1"
   ]
  },
  {
   "cell_type": "code",
   "execution_count": null,
   "metadata": {},
   "outputs": [],
   "source": [
    "# 윤년\n",
    "\n",
    "y = 4202\n",
    "\n",
    "# elif문\n",
    "if y % 4 == 0 and y % 100 != 0:\n",
    "    print('윤년입니다.')\n",
    "elif y % 400 == 0:\n",
    "    print('윤년입니다.')\n",
    "else:\n",
    "    print('윤년이 아닙니다.')"
   ]
  },
  {
   "cell_type": "code",
   "execution_count": null,
   "metadata": {},
   "outputs": [],
   "source": [
    "# 중첩if문\n",
    "if y % 4 == 0 and y % 100 != 0:\n",
    "    print('윤년입니다.')\n",
    "else:\n",
    "    if y % 400 == 0:\n",
    "        print('윤년입니다.')\n",
    "    else:\n",
    "        print('윤년이 아닙니다.')"
   ]
  },
  {
   "cell_type": "code",
   "execution_count": 6,
   "metadata": {},
   "outputs": [
    {
     "name": "stdout",
     "output_type": "stream",
     "text": [
      "윤년이 아닙니다.\n"
     ]
    }
   ],
   "source": [
    "y = int(input('연도를 입력하세요 : '))\n",
    "# 강사님 코드\n",
    "if y % 400 == 0:\n",
    "    print('윤년입니다.')\n",
    "else:\n",
    "    if y % 4 == 0:\n",
    "        if y % 100 != 0:\n",
    "            print('윤년입니다.')\n",
    "        else:\n",
    "            print('윤년이 아닙니다.')\n",
    "    else:\n",
    "        print('윤년이 아닙니다.')"
   ]
  }
 ],
 "metadata": {
  "kernelspec": {
   "display_name": "Python 3",
   "language": "python",
   "name": "python3"
  },
  "language_info": {
   "codemirror_mode": {
    "name": "ipython",
    "version": 3
   },
   "file_extension": ".py",
   "mimetype": "text/x-python",
   "name": "python",
   "nbconvert_exporter": "python",
   "pygments_lexer": "ipython3",
   "version": "3.12.2"
  }
 },
 "nbformat": 4,
 "nbformat_minor": 2
}
