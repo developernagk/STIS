{
 "cells": [
  {
   "cell_type": "code",
   "execution_count": 4,
   "id": "24e1e24f",
   "metadata": {},
   "outputs": [
    {
     "name": "stdout",
     "output_type": "stream",
     "text": [
      "윤년이 아닙니다\n"
     ]
    }
   ],
   "source": [
    "# 윤년\n",
    "# 4202년이 윤년인지 아닌지 판별하는 조건문을 작성하시오\n",
    "\n",
    "y = 2007\n",
    "if y % 400 == 0 or y % 100 != 0 and y % 4 == 0:\n",
    "    print('윤년입니다')\n",
    "else:\n",
    "    print('윤년이 아닙니다')"
   ]
  },
  {
   "cell_type": "code",
   "execution_count": 24,
   "id": "176dd0ae",
   "metadata": {},
   "outputs": [
    {
     "name": "stdout",
     "output_type": "stream",
     "text": [
      "윤년이 아닙니다.\n"
     ]
    }
   ],
   "source": [
    "# 윤년\n",
    "# 위의 코드를 중첩if문/elif문 등을 이용해서 작성\n",
    "\n",
    "y = 4202\n",
    "\n",
    "# elif문\n",
    "if y % 4 == 0 and y % 100 != 0:\n",
    "    print('윤년입니다.')\n",
    "elif y % 400 == 0:\n",
    "    print('윤년입니다.')\n",
    "else:\n",
    "    print('윤년이 아닙니다.')"
   ]
  },
  {
   "cell_type": "code",
   "execution_count": 25,
   "id": "2aa76fa7",
   "metadata": {},
   "outputs": [
    {
     "name": "stdout",
     "output_type": "stream",
     "text": [
      "윤년이 아닙니다.\n"
     ]
    }
   ],
   "source": [
    "# 중첩if문\n",
    "if y % 4 == 0 and y % 100 != 0:\n",
    "    print('윤년입니다.')\n",
    "else:\n",
    "    if y % 400 == 0:\n",
    "        print('윤년입니다.')\n",
    "    else:\n",
    "        print('윤년이 아닙니다.')"
   ]
  },
  {
   "cell_type": "code",
   "execution_count": null,
   "id": "52027eb1",
   "metadata": {},
   "outputs": [],
   "source": [
    "# 죄수의 딜레마\n",
    "# 죄수를 나타내는 변수 : XA, XB\n",
    "# 자백 : True, 그렇지 않으면 : False\n",
    "# 복역 연수 : YA, YB\n",
    "# 둘 중 하나가 배신하여 자백 시 자백한 사람은 즉시 석방, 나머지 한 명이 10년\n",
    "# 둘 모두 서로를 배신하여 죄를 자백 시 둘 다 5년\n",
    "# 둘 모두 죄를 자백하지 않으면 둘 다 1년"
   ]
  },
  {
   "cell_type": "code",
   "execution_count": 37,
   "id": "4e576ee9",
   "metadata": {},
   "outputs": [
    {
     "name": "stdout",
     "output_type": "stream",
     "text": [
      "자백 여부 : False\n",
      "자백 여부 : True\n",
      "YA : 10, YB : 0\n"
     ]
    }
   ],
   "source": [
    "XA = input('자백 여부 : ')\n",
    "XB = input('자백 여부 : ')\n",
    "\n",
    "if XA == 'True':\n",
    "    if XB == 'False':\n",
    "        print('YA : 0, YB : 10')\n",
    "    else:\n",
    "        print('YA : 5, YB : 5')\n",
    "else:\n",
    "    if XB == 'False':\n",
    "        print('YA : 1, YB : 1')\n",
    "    else:\n",
    "        print('YA : 10, YB : 0')"
   ]
  }
 ],
 "metadata": {
  "kernelspec": {
   "display_name": "Python 3 (ipykernel)",
   "language": "python",
   "name": "python3"
  },
  "language_info": {
   "codemirror_mode": {
    "name": "ipython",
    "version": 3
   },
   "file_extension": ".py",
   "mimetype": "text/x-python",
   "name": "python",
   "nbconvert_exporter": "python",
   "pygments_lexer": "ipython3",
   "version": "3.9.12"
  }
 },
 "nbformat": 4,
 "nbformat_minor": 5
}
