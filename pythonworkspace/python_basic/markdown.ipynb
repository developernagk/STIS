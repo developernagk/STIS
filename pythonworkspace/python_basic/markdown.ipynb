{
 "cells": [
  {
   "cell_type": "markdown",
   "metadata": {},
   "source": [
    "# Markdown\n",
    "=====\n",
    "텍스트에 서식을 지정할 수 있는 경량 텍스트 언어  \n",
    "HTML과 같은 다른 마크업 언어에 비해 사용이 편함"
   ]
  },
  {
   "cell_type": "code",
   "execution_count": null,
   "metadata": {},
   "outputs": [],
   "source": [
    "# 제목 표시\n",
    "# h1 ~ h6 제목 크기와 중요도\n",
    "# h1 : 가장 중요한 제목\n",
    "# h6 : 단락의 제목\n",
    "\n",
    "# # : h1 제목\n",
    "# ## : h2 제목\n",
    "# ### : h3 제목\n",
    "# #### : h4 제목\n",
    "# ##### : h5 제목\n",
    "# ###### : h6 제목\n",
    "\n",
    "# 내용\n",
    "# =====\n",
    "# h1 제목\n",
    "\n",
    "# 내용\n",
    "# -----\n",
    "# h2 제목"
   ]
  },
  {
   "cell_type": "markdown",
   "metadata": {},
   "source": [
    "# h1\n",
    "## h2\n",
    "### h3\n",
    "#### h4\n",
    "##### h5\n",
    "###### h6"
   ]
  },
  {
   "cell_type": "markdown",
   "metadata": {},
   "source": [
    "h1\n",
    "=====\n",
    "h2\n",
    "-----"
   ]
  },
  {
   "cell_type": "code",
   "execution_count": null,
   "metadata": {},
   "outputs": [],
   "source": [
    "# 문자 강조\n",
    "# 이텔릭체 표기, 볼드체 표기, 취소선, 밑줄 표기\n",
    "# *내용* or _내용_ : 이텔릭체 표기\n",
    "# **내용** or __내용__ : 볼드체 표기\n",
    "# ~~내용~~ : 취소선 표기\n",
    "\n",
    "# 밑줄은 마크다운에서 지원하지 않음\n",
    "# HTML 밑줄 사용법\n",
    "# <u>내용</u> : 밑줄 표기"
   ]
  },
  {
   "cell_type": "markdown",
   "metadata": {},
   "source": [
    "*이텔릭체*\n",
    "**볼드체**\n",
    "__*두꺼운이텔릭체*__\n",
    "~~취소선~~\n",
    "<u>밑줄</u>"
   ]
  },
  {
   "cell_type": "code",
   "execution_count": null,
   "metadata": {},
   "outputs": [],
   "source": [
    "# 줄바꿈\n",
    "# 띄워쓰기 두번으로 줄바꿈 처리(띄워쓰기 후 줄 바꿔줘야 함)\n",
    "# <br> 으로 줄바꿈 처리"
   ]
  },
  {
   "cell_type": "markdown",
   "metadata": {},
   "source": [
    "첫 번째줄  \n",
    "두 번째줄  \n",
    "세 번째줄"
   ]
  },
  {
   "cell_type": "markdown",
   "metadata": {},
   "source": [
    "첫 번째줄<br>두 번째줄<br>세 번째줄"
   ]
  }
 ],
 "metadata": {
  "language_info": {
   "name": "python"
  }
 },
 "nbformat": 4,
 "nbformat_minor": 2
}
